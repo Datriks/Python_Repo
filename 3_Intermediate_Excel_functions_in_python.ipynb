{
  "nbformat": 4,
  "nbformat_minor": 0,
  "metadata": {
    "colab": {
      "name": "3 Intermediate Excel functions in python.ipynb",
      "provenance": [],
      "authorship_tag": "ABX9TyPYaHr5lH0rcOtjpwn+U9rG",
      "include_colab_link": true
    },
    "kernelspec": {
      "name": "python3",
      "display_name": "Python 3"
    }
  },
  "cells": [
    {
      "cell_type": "markdown",
      "metadata": {
        "id": "view-in-github",
        "colab_type": "text"
      },
      "source": [
        "<a href=\"https://colab.research.google.com/github/Datriks/Python_Repo/blob/master/3_Intermediate_Excel_functions_in_python.ipynb\" target=\"_parent\"><img src=\"https://colab.research.google.com/assets/colab-badge.svg\" alt=\"Open In Colab\"/></a>"
      ]
    },
    {
      "cell_type": "markdown",
      "metadata": {
        "id": "stQaQxTNhmJ4",
        "colab_type": "text"
      },
      "source": [
        "3 Intermediate Excel functions and how to do them in Python"
      ]
    },
    {
      "cell_type": "code",
      "metadata": {
        "id": "xAtxNPtjh1_F",
        "colab_type": "code",
        "colab": {
          "base_uri": "https://localhost:8080/",
          "height": 85
        },
        "outputId": "066d354a-fa5c-4ae9-8474-650cdc4d174f"
      },
      "source": [
        "import pandas as pd\n",
        "\n",
        "df2 = pd.DataFrame({'Postal Code':['M1R0E9','VOS1G2','A1SB1G'],\n",
        "                    'Name':['Nik','Mel','Jane']})\n",
        "print(df2)"
      ],
      "execution_count": 1,
      "outputs": [
        {
          "output_type": "stream",
          "text": [
            "  Postal Code  Name\n",
            "0      M1R0E9   Nik\n",
            "1      VOS1G2   Mel\n",
            "2      A1SB1G  Jane\n"
          ],
          "name": "stdout"
        }
      ]
    },
    {
      "cell_type": "markdown",
      "metadata": {
        "id": "XK7gS9RvinP5",
        "colab_type": "text"
      },
      "source": [
        "### Apply few of the text functions"
      ]
    },
    {
      "cell_type": "code",
      "metadata": {
        "id": "iRGU12YPihJ3",
        "colab_type": "code",
        "colab": {
          "base_uri": "https://localhost:8080/",
          "height": 85
        },
        "outputId": "10bbf18b-6f9a-44d1-f25e-0e6e13653d90"
      },
      "source": [
        "df2['Left'] = df2['Postal Code'].str[:3]\n",
        "print(df2)"
      ],
      "execution_count": 3,
      "outputs": [
        {
          "output_type": "stream",
          "text": [
            "  Postal Code  Name Left\n",
            "0      M1R0E9   Nik  M1R\n",
            "1      VOS1G2   Mel  VOS\n",
            "2      A1SB1G  Jane  A1S\n"
          ],
          "name": "stdout"
        }
      ]
    },
    {
      "cell_type": "code",
      "metadata": {
        "id": "ggJO66X0i3Wc",
        "colab_type": "code",
        "colab": {
          "base_uri": "https://localhost:8080/",
          "height": 142
        },
        "outputId": "1d26dda2-4001-43fb-9bad-b08699a4e57a"
      },
      "source": [
        "df2['Right'] = df2['Postal Code'].str[-3:]\n",
        "df2"
      ],
      "execution_count": 5,
      "outputs": [
        {
          "output_type": "execute_result",
          "data": {
            "text/html": [
              "<div>\n",
              "<style scoped>\n",
              "    .dataframe tbody tr th:only-of-type {\n",
              "        vertical-align: middle;\n",
              "    }\n",
              "\n",
              "    .dataframe tbody tr th {\n",
              "        vertical-align: top;\n",
              "    }\n",
              "\n",
              "    .dataframe thead th {\n",
              "        text-align: right;\n",
              "    }\n",
              "</style>\n",
              "<table border=\"1\" class=\"dataframe\">\n",
              "  <thead>\n",
              "    <tr style=\"text-align: right;\">\n",
              "      <th></th>\n",
              "      <th>Postal Code</th>\n",
              "      <th>Name</th>\n",
              "      <th>Left</th>\n",
              "      <th>Right</th>\n",
              "    </tr>\n",
              "  </thead>\n",
              "  <tbody>\n",
              "    <tr>\n",
              "      <th>0</th>\n",
              "      <td>M1R0E9</td>\n",
              "      <td>Nik</td>\n",
              "      <td>M1R</td>\n",
              "      <td>0E9</td>\n",
              "    </tr>\n",
              "    <tr>\n",
              "      <th>1</th>\n",
              "      <td>VOS1G2</td>\n",
              "      <td>Mel</td>\n",
              "      <td>VOS</td>\n",
              "      <td>1G2</td>\n",
              "    </tr>\n",
              "    <tr>\n",
              "      <th>2</th>\n",
              "      <td>A1SB1G</td>\n",
              "      <td>Jane</td>\n",
              "      <td>A1S</td>\n",
              "      <td>B1G</td>\n",
              "    </tr>\n",
              "  </tbody>\n",
              "</table>\n",
              "</div>"
            ],
            "text/plain": [
              "  Postal Code  Name Left Right\n",
              "0      M1R0E9   Nik  M1R   0E9\n",
              "1      VOS1G2   Mel  VOS   1G2\n",
              "2      A1SB1G  Jane  A1S   B1G"
            ]
          },
          "metadata": {
            "tags": []
          },
          "execution_count": 5
        }
      ]
    },
    {
      "cell_type": "code",
      "metadata": {
        "id": "OBAu_HRXjl-k",
        "colab_type": "code",
        "colab": {
          "base_uri": "https://localhost:8080/",
          "height": 142
        },
        "outputId": "a07b9661-71e8-4d9b-aa0f-1e4685ed361e"
      },
      "source": [
        "df2['Lower'] = df2['Name'].str.lower()\n",
        "df2"
      ],
      "execution_count": 7,
      "outputs": [
        {
          "output_type": "execute_result",
          "data": {
            "text/html": [
              "<div>\n",
              "<style scoped>\n",
              "    .dataframe tbody tr th:only-of-type {\n",
              "        vertical-align: middle;\n",
              "    }\n",
              "\n",
              "    .dataframe tbody tr th {\n",
              "        vertical-align: top;\n",
              "    }\n",
              "\n",
              "    .dataframe thead th {\n",
              "        text-align: right;\n",
              "    }\n",
              "</style>\n",
              "<table border=\"1\" class=\"dataframe\">\n",
              "  <thead>\n",
              "    <tr style=\"text-align: right;\">\n",
              "      <th></th>\n",
              "      <th>Postal Code</th>\n",
              "      <th>Name</th>\n",
              "      <th>Left</th>\n",
              "      <th>Right</th>\n",
              "      <th>Lower</th>\n",
              "    </tr>\n",
              "  </thead>\n",
              "  <tbody>\n",
              "    <tr>\n",
              "      <th>0</th>\n",
              "      <td>M1R0E9</td>\n",
              "      <td>Nik</td>\n",
              "      <td>M1R</td>\n",
              "      <td>0E9</td>\n",
              "      <td>nik</td>\n",
              "    </tr>\n",
              "    <tr>\n",
              "      <th>1</th>\n",
              "      <td>VOS1G2</td>\n",
              "      <td>Mel</td>\n",
              "      <td>VOS</td>\n",
              "      <td>1G2</td>\n",
              "      <td>mel</td>\n",
              "    </tr>\n",
              "    <tr>\n",
              "      <th>2</th>\n",
              "      <td>A1SB1G</td>\n",
              "      <td>Jane</td>\n",
              "      <td>A1S</td>\n",
              "      <td>B1G</td>\n",
              "      <td>jane</td>\n",
              "    </tr>\n",
              "  </tbody>\n",
              "</table>\n",
              "</div>"
            ],
            "text/plain": [
              "  Postal Code  Name Left Right Lower\n",
              "0      M1R0E9   Nik  M1R   0E9   nik\n",
              "1      VOS1G2   Mel  VOS   1G2   mel\n",
              "2      A1SB1G  Jane  A1S   B1G  jane"
            ]
          },
          "metadata": {
            "tags": []
          },
          "execution_count": 7
        }
      ]
    },
    {
      "cell_type": "code",
      "metadata": {
        "id": "mRMNMviskrZo",
        "colab_type": "code",
        "colab": {
          "base_uri": "https://localhost:8080/",
          "height": 142
        },
        "outputId": "3372244a-8d67-43ed-fc5d-31243c1f2344"
      },
      "source": [
        "df2['Upper'] = df2['Name'].str.upper()\n",
        "df2"
      ],
      "execution_count": 9,
      "outputs": [
        {
          "output_type": "execute_result",
          "data": {
            "text/html": [
              "<div>\n",
              "<style scoped>\n",
              "    .dataframe tbody tr th:only-of-type {\n",
              "        vertical-align: middle;\n",
              "    }\n",
              "\n",
              "    .dataframe tbody tr th {\n",
              "        vertical-align: top;\n",
              "    }\n",
              "\n",
              "    .dataframe thead th {\n",
              "        text-align: right;\n",
              "    }\n",
              "</style>\n",
              "<table border=\"1\" class=\"dataframe\">\n",
              "  <thead>\n",
              "    <tr style=\"text-align: right;\">\n",
              "      <th></th>\n",
              "      <th>Postal Code</th>\n",
              "      <th>Name</th>\n",
              "      <th>Left</th>\n",
              "      <th>Right</th>\n",
              "      <th>Lower</th>\n",
              "      <th>Upper</th>\n",
              "    </tr>\n",
              "  </thead>\n",
              "  <tbody>\n",
              "    <tr>\n",
              "      <th>0</th>\n",
              "      <td>M1R0E9</td>\n",
              "      <td>Nik</td>\n",
              "      <td>M1R</td>\n",
              "      <td>0E9</td>\n",
              "      <td>nik</td>\n",
              "      <td>NIK</td>\n",
              "    </tr>\n",
              "    <tr>\n",
              "      <th>1</th>\n",
              "      <td>VOS1G2</td>\n",
              "      <td>Mel</td>\n",
              "      <td>VOS</td>\n",
              "      <td>1G2</td>\n",
              "      <td>mel</td>\n",
              "      <td>MEL</td>\n",
              "    </tr>\n",
              "    <tr>\n",
              "      <th>2</th>\n",
              "      <td>A1SB1G</td>\n",
              "      <td>Jane</td>\n",
              "      <td>A1S</td>\n",
              "      <td>B1G</td>\n",
              "      <td>jane</td>\n",
              "      <td>JANE</td>\n",
              "    </tr>\n",
              "  </tbody>\n",
              "</table>\n",
              "</div>"
            ],
            "text/plain": [
              "  Postal Code  Name Left Right Lower Upper\n",
              "0      M1R0E9   Nik  M1R   0E9   nik   NIK\n",
              "1      VOS1G2   Mel  VOS   1G2   mel   MEL\n",
              "2      A1SB1G  Jane  A1S   B1G  jane  JANE"
            ]
          },
          "metadata": {
            "tags": []
          },
          "execution_count": 9
        }
      ]
    },
    {
      "cell_type": "code",
      "metadata": {
        "id": "Tn79lwahk85v",
        "colab_type": "code",
        "colab": {}
      },
      "source": [
        ""
      ],
      "execution_count": 0,
      "outputs": []
    }
  ]
}